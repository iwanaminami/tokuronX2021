{
  "nbformat": 4,
  "nbformat_minor": 0,
  "metadata": {
    "kernelspec": {
      "display_name": "Python 3",
      "language": "python",
      "name": "python3"
    },
    "language_info": {
      "codemirror_mode": {
        "name": "ipython",
        "version": 3
      },
      "file_extension": ".py",
      "mimetype": "text/x-python",
      "name": "python",
      "nbconvert_exporter": "python",
      "pygments_lexer": "ipython3",
      "version": "3.7.3"
    },
    "colab": {
      "name": "SIR.ipynb",
      "provenance": [],
      "collapsed_sections": [],
      "include_colab_link": true
    }
  },
  "cells": [
    {
      "cell_type": "markdown",
      "metadata": {
        "id": "view-in-github",
        "colab_type": "text"
      },
      "source": [
        "<a href=\"https://colab.research.google.com/github/iwanaminami/tokuronX2021/blob/main/SIR.ipynb\" target=\"_parent\"><img src=\"https://colab.research.google.com/assets/colab-badge.svg\" alt=\"Open In Colab\"/></a>"
      ]
    },
    {
      "cell_type": "markdown",
      "metadata": {
        "id": "b9EzY6khwz6A"
      },
      "source": [
        "# SIR model\n",
        "感染症の流行過程を記述するモデル  \n",
        "$S$: 感受性保持者（susceptible）  \n",
        "$I$: 感染性保持者（Infectious）  \n",
        "$R$: 回復者（Recovered） or 隔離者（Removed）  \n",
        "$$\n",
        "\\begin{cases}\n",
        "\\frac{dS(t)}{dt} = -\\beta S(t) I(t)\\\\\n",
        "\\frac{dI(t)}{dt} = \\beta S(t) I(t) - \\gamma I(t)\\\\\n",
        "\\frac{dR(t)}{dt} = \\gamma I(t)\n",
        "\\end{cases}\n",
        "$$\n",
        "  \n",
        "$R_0$: 基本再生産数\n",
        "$$\n",
        "R_0=\\frac{\\beta S(0)}{\\gamma}\n",
        "$$\n",
        "  \n",
        "$z=\\frac{R(\\infty)}{S(\\infty)+I(\\infty)+R(\\infty)}$: 最終規模（final size）  \n",
        "  \n",
        "最終規模方程式（final size equation）  \n",
        "$R_0$と最終規模の関係\n",
        "$$\n",
        "1-z=\\exp(-zR_0)\n",
        "$$\n",
        "  \n",
        "$$\n",
        "R_0=-\\frac{\\ln(1-z)}{z}\n",
        "$$"
      ]
    },
    {
      "cell_type": "code",
      "metadata": {
        "id": "y_xXdv0pwz6B"
      },
      "source": [
        "# %matplotlib inline"
      ],
      "execution_count": null,
      "outputs": []
    },
    {
      "cell_type": "code",
      "metadata": {
        "id": "uCfe4lp6wz6F"
      },
      "source": [
        "import math\n",
        "import matplotlib.pyplot as plt"
      ],
      "execution_count": null,
      "outputs": []
    },
    {
      "cell_type": "code",
      "metadata": {
        "id": "JtpbrYJOwz6H",
        "colab": {
          "base_uri": "https://localhost:8080/",
          "height": 299
        },
        "outputId": "896d3713-ceba-4953-8253-e601fdab94a2"
      },
      "source": [
        "# SIRモデル\n",
        "beta = 0.002\n",
        "gamma = 1\n",
        "x0 = 1000\n",
        "y0 = 1\n",
        "z0 = 0\n",
        "\n",
        "r0 = beta*x0/gamma\n",
        "print(\"基本再生産数は\",r0,\"です\")\n",
        "\n",
        "dt = 0.0001\n",
        "t= 0\n",
        "x = x0\n",
        "y = y0\n",
        "z = z0\n",
        "xList = [x]\n",
        "yList = [y]\n",
        "zList = [z]\n",
        "tList = [t]\n",
        "for i in range(500000):\n",
        "    t = dt*(i+1)\n",
        "    xx = x + dt*(-beta*x*y)\n",
        "    yy = y + dt*(beta*x*y-gamma*y)\n",
        "    zz = z + dt*(gamma*y)\n",
        "    x = xx\n",
        "    y=yy\n",
        "    z=zz\n",
        "    tList.append(t)\n",
        "    xList.append(x)\n",
        "    yList.append(y)\n",
        "    zList.append(z)\n",
        "plt.plot(tList, xList, color=\"#0000ff\")\n",
        "plt.plot(tList, yList, color=\"#ff0000\")\n",
        "plt.plot(tList, zList, color=\"#00ff00\")"
      ],
      "execution_count": null,
      "outputs": [
        {
          "output_type": "stream",
          "text": [
            "基本再生産数は 2.0 です\n"
          ],
          "name": "stdout"
        },
        {
          "output_type": "execute_result",
          "data": {
            "text/plain": [
              "[<matplotlib.lines.Line2D at 0x7f5814c5bb00>]"
            ]
          },
          "metadata": {
            "tags": []
          },
          "execution_count": 5
        },
        {
          "output_type": "display_data",
          "data": {
            "image/png": "[encoded data removed]",
            "text/plain": [
              "<Figure size 432x288 with 1 Axes>"
            ]
          },
          "metadata": {
            "tags": [],
            "needs_background": "light"
          }
        }
      ]
    },
    {
      "cell_type": "code",
      "metadata": {
        "id": "b0zyXSnI4qhP",
        "colab": {
          "base_uri": "https://localhost:8080/",
          "height": 299
        },
        "outputId": "cbf501a9-1bc2-4211-f6cf-ff5fb60e0955"
      },
      "source": [
        "# SIRモデル\n",
        "beta = 0.002\n",
        "gamma = 1\n",
        "x0 = 1000\n",
        "y0 = 1\n",
        "z0 = 0\n",
        "\n",
        "r0 = beta*x0/gamma\n",
        "print(\"基本再生産数は\",r0,\"です\")\n",
        "\n",
        "dt = 0.0001\n",
        "t= 0\n",
        "x = x0\n",
        "y = y0\n",
        "z = z0\n",
        "xList2 = [x]\n",
        "yList2 = [y]\n",
        "zList2 = [z]\n",
        "tList2 = [t]\n",
        "for i in range(500000):\n",
        "    t = dt*(i+1)\n",
        "    if t > 4:\n",
        "      beta = 0.002*0.5\n",
        "    \n",
        "    xx = x + dt*(-beta*x*y)\n",
        "    yy = y + dt*(beta*x*y-gamma*y)\n",
        "    zz = z + dt*(gamma*y)\n",
        "    x = xx\n",
        "    y=yy\n",
        "    z=zz\n",
        "    tList2.append(t)\n",
        "    xList2.append(x)\n",
        "    yList2.append(y)\n",
        "    zList2.append(z)\n",
        "plt.plot(tList2, xList2, color=\"#0000ff\", linestyle=\"dashed\")\n",
        "plt.plot(tList2, yList2, color=\"#ff0000\", linestyle=\"dashed\")\n",
        "plt.plot(tList2, zList2, color=\"#00ff00\", linestyle=\"dashed\")"
      ],
      "execution_count": null,
      "outputs": [
        {
          "output_type": "stream",
          "text": [
            "基本再生産数は 2.0 です\n"
          ],
          "name": "stdout"
        },
        {
          "output_type": "execute_result",
          "data": {
            "text/plain": [
              "[<matplotlib.lines.Line2D at 0x7f5811634f98>]"
            ]
          },
          "metadata": {
            "tags": []
          },
          "execution_count": 6
        },
        {
          "output_type": "display_data",
          "data": {
            "image/png": "[encoded data removed]",
            "text/plain": [
              "<Figure size 432x288 with 1 Axes>"
            ]
          },
          "metadata": {
            "tags": [],
            "needs_background": "light"
          }
        }
      ]
    },
    {
      "cell_type": "code",
      "metadata": {
        "id": "10g7ph7Kwz6K",
        "outputId": "388926d0-5456-4194-880e-042ac0241b7c"
      },
      "source": [
        "# 最終規模から基本再生産数の計算\n",
        "fs = zList[-1]/(xList[-1]+yList[-1]+zList[-1])\n",
        "r0fs = -math.log(1-fs)/fs\n",
        "print(\"最終規模から計算される基本再生産数は\",r0fs,\"です\")"
      ],
      "execution_count": null,
      "outputs": [
        {
          "output_type": "stream",
          "text": [
            "0.7982542609488041\n",
            "最終規模から計算される基本再生産数は 2.005309799533006 です\n"
          ],
          "name": "stdout"
        }
      ]
    },
    {
      "cell_type": "code",
      "metadata": {
        "id": "NtAQ-sd_5cEK",
        "colab": {
          "base_uri": "https://localhost:8080/",
          "height": 34
        },
        "outputId": "139ae91c-582a-4a37-db86-bf17c5801d0d"
      },
      "source": [
        "1 - zList2[-1]/zList[-1]"
      ],
      "execution_count": null,
      "outputs": [
        {
          "output_type": "execute_result",
          "data": {
            "text/plain": [
              "0.6432382411521353"
            ]
          },
          "metadata": {
            "tags": []
          },
          "execution_count": 8
        }
      ]
    },
    {
      "cell_type": "code",
      "metadata": {
        "id": "9XuDMo8Q5jRR"
      },
      "source": [
        ""
      ],
      "execution_count": null,
      "outputs": []
    }
  ]
}