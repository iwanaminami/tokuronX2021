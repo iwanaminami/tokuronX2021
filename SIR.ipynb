{
  "nbformat": 4,
  "nbformat_minor": 0,
  "metadata": {
    "kernelspec": {
      "display_name": "Python 3",
      "language": "python",
      "name": "python3"
    },
    "language_info": {
      "codemirror_mode": {
        "name": "ipython",
        "version": 3
      },
      "file_extension": ".py",
      "mimetype": "text/x-python",
      "name": "python",
      "nbconvert_exporter": "python",
      "pygments_lexer": "ipython3",
      "version": "3.7.3"
    },
    "colab": {
      "name": "SIR_tokuronX.ipynb",
      "provenance": [],
      "collapsed_sections": [],
      "include_colab_link": true
    }
  },
  "cells": [
    {
      "cell_type": "markdown",
      "metadata": {
        "id": "view-in-github",
        "colab_type": "text"
      },
      "source": [
        "<a href=\"https://colab.research.google.com/github/iwanaminami/tokuronX2021/blob/main/SIR.ipynb\" target=\"_parent\"><img src=\"https://colab.research.google.com/assets/colab-badge.svg\" alt=\"Open In Colab\"/></a>"
      ]
    },
    {
      "cell_type": "markdown",
      "metadata": {
        "id": "b9EzY6khwz6A"
      },
      "source": [
        "# SIR model\n",
        "感染症の流行過程を記述するモデル  \n",
        "\n",
        "$$\n",
        "\\begin{cases}\n",
        "\\frac{dS(t)}{dt} = -\\beta S(t) I(t)\\\\\n",
        "\\frac{dI(t)}{dt} = \\beta S(t) I(t) - \\gamma I(t)\\\\\n",
        "\\frac{dR(t)}{dt} = \\gamma I(t)\n",
        "\\end{cases}\n",
        "$$\n",
        "\n",
        "## 変数  \n",
        "\n",
        "$S(t)$: 感受性保持者（susceptible）  \n",
        "$I(t)$: 感染性保持者（Infectious）  \n",
        "$R(t)$: 回復者（Recovered） or 隔離者（Removed）  \n",
        "\n",
        "## パラメータ\n",
        "\n",
        "$\\beta$: 感染性（感染力）  \n",
        "$\\gamma$: 回復率  \n",
        "$T(0)$: 感受性保持者の初期値（最初の時刻の時の値） \n",
        "\n",
        "## 以下参考\n",
        "\n",
        "$R_0$: 基本再生産数\n",
        "$$\n",
        "R_0=\\frac{\\beta S(0)}{\\gamma}\n",
        "$$\n",
        "  \n",
        "$z=\\frac{R(\\infty)}{S(\\infty)+I(\\infty)+R(\\infty)}$: 最終規模（final size）  \n",
        "  \n",
        "最終規模方程式（final size equation）  \n",
        "$R_0$と最終規模の関係\n",
        "$$\n",
        "1-z=\\exp(-zR_0)\n",
        "$$\n",
        "  \n",
        "$$\n",
        "R_0=-\\frac{\\ln(1-z)}{z}\n",
        "$$"
      ]
    },
    {
      "cell_type": "code",
      "metadata": {
        "id": "uCfe4lp6wz6F"
      },
      "source": [
        "# ライブラリの読み込み\n",
        "# 最初に1回だけ実行\n",
        "\n",
        "import math\n",
        "import matplotlib.pyplot as plt\n",
        "import pandas as pd\n",
        "import datetime"
      ],
      "execution_count": 44,
      "outputs": []
    },
    {
      "cell_type": "code",
      "metadata": {
        "colab": {
          "base_uri": "https://localhost:8080/",
          "height": 419
        },
        "id": "-Z6MYcJtaFko",
        "outputId": "9b9f4996-4814-4aab-99b3-94f1d11bd513"
      },
      "source": [
        "# データの読み込み\n",
        "# 最初に1回だけ実行\n",
        "\n",
        "data_infected = pd.read_csv(\"https://covid19.mhlw.go.jp/public/opendata/newly_confirmed_cases_daily.csv\")\n",
        "data_infected['Date'] = pd.to_datetime(data_infected['Date'], format = \"%Y/%m/%d\")\n",
        "\n",
        "data_infected_aichi = data_infected.query('Prefecture == \"Aichi\"')\n",
        "time_start = datetime.datetime(2021,7,15)\n",
        "time_end = datetime.datetime(2021,10,15)\n",
        "data_infected_aichi_5th = data_infected_aichi.query('@time_start < Date < @time_end')\n",
        "data_infected_aichi_5th"
      ],
      "execution_count": 45,
      "outputs": [
        {
          "output_type": "execute_result",
          "data": {
            "text/html": [
              "<div>\n",
              "<style scoped>\n",
              "    .dataframe tbody tr th:only-of-type {\n",
              "        vertical-align: middle;\n",
              "    }\n",
              "\n",
              "    .dataframe tbody tr th {\n",
              "        vertical-align: top;\n",
              "    }\n",
              "\n",
              "    .dataframe thead th {\n",
              "        text-align: right;\n",
              "    }\n",
              "</style>\n",
              "<table border=\"1\" class=\"dataframe\">\n",
              "  <thead>\n",
              "    <tr style=\"text-align: right;\">\n",
              "      <th></th>\n",
              "      <th>Date</th>\n",
              "      <th>Prefecture</th>\n",
              "      <th>Newly confirmed cases</th>\n",
              "    </tr>\n",
              "  </thead>\n",
              "  <tbody>\n",
              "    <tr>\n",
              "      <th>26279</th>\n",
              "      <td>2021-07-16</td>\n",
              "      <td>Aichi</td>\n",
              "      <td>67</td>\n",
              "    </tr>\n",
              "    <tr>\n",
              "      <th>26327</th>\n",
              "      <td>2021-07-17</td>\n",
              "      <td>Aichi</td>\n",
              "      <td>75</td>\n",
              "    </tr>\n",
              "    <tr>\n",
              "      <th>26375</th>\n",
              "      <td>2021-07-18</td>\n",
              "      <td>Aichi</td>\n",
              "      <td>94</td>\n",
              "    </tr>\n",
              "    <tr>\n",
              "      <th>26423</th>\n",
              "      <td>2021-07-19</td>\n",
              "      <td>Aichi</td>\n",
              "      <td>36</td>\n",
              "    </tr>\n",
              "    <tr>\n",
              "      <th>26471</th>\n",
              "      <td>2021-07-20</td>\n",
              "      <td>Aichi</td>\n",
              "      <td>94</td>\n",
              "    </tr>\n",
              "    <tr>\n",
              "      <th>...</th>\n",
              "      <td>...</td>\n",
              "      <td>...</td>\n",
              "      <td>...</td>\n",
              "    </tr>\n",
              "    <tr>\n",
              "      <th>30407</th>\n",
              "      <td>2021-10-10</td>\n",
              "      <td>Aichi</td>\n",
              "      <td>27</td>\n",
              "    </tr>\n",
              "    <tr>\n",
              "      <th>30455</th>\n",
              "      <td>2021-10-11</td>\n",
              "      <td>Aichi</td>\n",
              "      <td>13</td>\n",
              "    </tr>\n",
              "    <tr>\n",
              "      <th>30503</th>\n",
              "      <td>2021-10-12</td>\n",
              "      <td>Aichi</td>\n",
              "      <td>39</td>\n",
              "    </tr>\n",
              "    <tr>\n",
              "      <th>30551</th>\n",
              "      <td>2021-10-13</td>\n",
              "      <td>Aichi</td>\n",
              "      <td>47</td>\n",
              "    </tr>\n",
              "    <tr>\n",
              "      <th>30599</th>\n",
              "      <td>2021-10-14</td>\n",
              "      <td>Aichi</td>\n",
              "      <td>30</td>\n",
              "    </tr>\n",
              "  </tbody>\n",
              "</table>\n",
              "<p>91 rows × 3 columns</p>\n",
              "</div>"
            ],
            "text/plain": [
              "            Date Prefecture  Newly confirmed cases\n",
              "26279 2021-07-16      Aichi                     67\n",
              "26327 2021-07-17      Aichi                     75\n",
              "26375 2021-07-18      Aichi                     94\n",
              "26423 2021-07-19      Aichi                     36\n",
              "26471 2021-07-20      Aichi                     94\n",
              "...          ...        ...                    ...\n",
              "30407 2021-10-10      Aichi                     27\n",
              "30455 2021-10-11      Aichi                     13\n",
              "30503 2021-10-12      Aichi                     39\n",
              "30551 2021-10-13      Aichi                     47\n",
              "30599 2021-10-14      Aichi                     30\n",
              "\n",
              "[91 rows x 3 columns]"
            ]
          },
          "metadata": {},
          "execution_count": 45
        }
      ]
    },
    {
      "cell_type": "code",
      "metadata": {
        "colab": {
          "base_uri": "https://localhost:8080/",
          "height": 282
        },
        "id": "4Xgs4_tUgXtI",
        "outputId": "cc3955b1-b393-4a0d-8a49-bac0cbd592cc"
      },
      "source": [
        "# データのプロット\n",
        "plt.scatter(data_infected_aichi_5th['Date'], data_infected_aichi_5th['Newly confirmed cases'])"
      ],
      "execution_count": 60,
      "outputs": [
        {
          "output_type": "execute_result",
          "data": {
            "text/plain": [
              "<matplotlib.collections.PathCollection at 0x7fee1da4e810>"
            ]
          },
          "metadata": {},
          "execution_count": 60
        },
        {
          "output_type": "display_data",
          "data": {
            "image/png": "[encoded data removed]",
            "text/plain": [
              "<Figure size 432x288 with 1 Axes>"
            ]
          },
          "metadata": {
            "needs_background": "light"
          }
        }
      ]
    },
    {
      "cell_type": "code",
      "metadata": {
        "id": "JtpbrYJOwz6H",
        "colab": {
          "base_uri": "https://localhost:8080/",
          "height": 299
        },
        "outputId": "24b34cf7-dc98-4a7a-b117-f7b8bbdb5a24"
      },
      "source": [
        "# メイン\n",
        "# SIRモデル\n",
        "beta = 0.00002 # 0.00002, 変えてみる\n",
        "gamma = 0.1 # 0.1, 変えてみる\n",
        "x0 = 30000 # 30000, 変えてみる\n",
        "y0 = 1\n",
        "z0 = 0\n",
        "\n",
        "r0 = beta*x0/gamma\n",
        "print(\"基本再生産数は\",r0,\"です\")\n",
        "\n",
        "dt = 0.01\n",
        "t = 0\n",
        "x = x0\n",
        "y = y0\n",
        "z = z0\n",
        "xList = [x]\n",
        "yList = [y]\n",
        "zList = [z]\n",
        "tList = [t]\n",
        "for i in range(10000):\n",
        "    t = dt*(i+1)\n",
        "    xx = x + dt*(-beta*x*y)\n",
        "    yy = y + dt*(beta*x*y-gamma*y)\n",
        "    zz = z + dt*(gamma*y)\n",
        "    x = xx\n",
        "    y=yy\n",
        "    z=zz\n",
        "    tList.append(t)\n",
        "    xList.append(x)\n",
        "    yList.append(y)\n",
        "    zList.append(z)\n",
        "\n",
        "# プロット\n",
        "tList = [time_start + datetime.timedelta(days = i) for i in tList]\n",
        "plt.scatter(data_infected_aichi_5th['Date'], data_infected_aichi_5th['Newly confirmed cases'])\n",
        "plt.plot(tList, yList, color=\"#ff0000\")"
      ],
      "execution_count": 77,
      "outputs": [
        {
          "output_type": "stream",
          "name": "stdout",
          "text": [
            "基本再生産数は 6.000000000000001 です\n"
          ]
        },
        {
          "output_type": "execute_result",
          "data": {
            "text/plain": [
              "[<matplotlib.lines.Line2D at 0x7fee1bfedad0>]"
            ]
          },
          "metadata": {},
          "execution_count": 77
        },
        {
          "output_type": "display_data",
          "data": {
            "image/png": "[encoded data removed]",
            "text/plain": [
              "<Figure size 432x288 with 1 Axes>"
            ]
          },
          "metadata": {
            "needs_background": "light"
          }
        }
      ]
    },
    {
      "cell_type": "code",
      "metadata": {
        "colab": {
          "base_uri": "https://localhost:8080/",
          "height": 282
        },
        "id": "oaTwix5GmVMm",
        "outputId": "0fd9b55a-0125-4004-d32d-c462c268345f"
      },
      "source": [
        "# 全てプロット\n",
        "plt.scatter(data_infected_aichi_5th['Date'], data_infected_aichi_5th['Newly confirmed cases'])\n",
        "plt.plot(tList, xList, color=\"#0000ff\")\n",
        "plt.plot(tList, yList, color=\"#ff0000\")\n",
        "plt.plot(tList, zList, color=\"#00ff00\")"
      ],
      "execution_count": 79,
      "outputs": [
        {
          "output_type": "execute_result",
          "data": {
            "text/plain": [
              "[<matplotlib.lines.Line2D at 0x7fee1630c150>]"
            ]
          },
          "metadata": {},
          "execution_count": 79
        },
        {
          "output_type": "display_data",
          "data": {
            "image/png": "[encoded data removed]",
            "text/plain": [
              "<Figure size 432x288 with 1 Axes>"
            ]
          },
          "metadata": {
            "needs_background": "light"
          }
        }
      ]
    },
    {
      "cell_type": "code",
      "metadata": {
        "id": "uHLTWjmEjUCN"
      },
      "source": [
        ""
      ],
      "execution_count": null,
      "outputs": []
    }
  ]
}